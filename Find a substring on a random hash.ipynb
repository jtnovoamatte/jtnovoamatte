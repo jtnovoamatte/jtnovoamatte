{
  "nbformat": 4,
  "nbformat_minor": 0,
  "metadata": {
    "colab": {
      "provenance": [],
      "authorship_tag": "ABX9TyOgNuqkTyJOtqMr+32PPFSH",
      "include_colab_link": true
    },
    "kernelspec": {
      "name": "python3",
      "display_name": "Python 3"
    },
    "language_info": {
      "name": "python"
    }
  },
  "cells": [
    {
      "cell_type": "markdown",
      "metadata": {
        "id": "view-in-github",
        "colab_type": "text"
      },
      "source": [
        "<a href=\"https://colab.research.google.com/github/jtnovoamatte/jtnovoamatte/blob/main/Find%20a%20substring%20on%20a%20random%20hash.ipynb\" target=\"_parent\"><img src=\"https://colab.research.google.com/assets/colab-badge.svg\" alt=\"Open In Colab\"/></a>"
      ]
    },
    {
      "cell_type": "code",
      "execution_count": 5,
      "metadata": {
        "colab": {
          "base_uri": "https://localhost:8080/"
        },
        "id": "oVAVOU7_LC-2",
        "outputId": "f5ecabf1-5c46-4508-8f50-3acb507d6d4e"
      },
      "outputs": [
        {
          "output_type": "stream",
          "name": "stdout",
          "text": [
            "b'e55072e2-8994-47d3-886d-6a512dc7499c' f55d8ceff43dce0b57ef3a84b00da9d5dfd80687cf8ef13891eb4a6ce7a8502e\n"
          ]
        }
      ],
      "source": [
        "#!/usr/bin/env python3\n",
        "\n",
        "from hashlib import sha256\n",
        "from uuid import uuid4\n",
        "\n",
        "needle = \"b00da\"\n",
        "\n",
        "found = False\n",
        "while not found:\n",
        "    candidate = str(uuid4()).encode()\n",
        "    haystack = sha256(candidate).hexdigest()\n",
        "    found = needle in haystack\n",
        "\n",
        "print(candidate, haystack)"
      ]
    }
  ]
}