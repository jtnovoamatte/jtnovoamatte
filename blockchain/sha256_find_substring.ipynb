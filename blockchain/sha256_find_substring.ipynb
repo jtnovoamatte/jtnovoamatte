{
  "nbformat": 4,
  "nbformat_minor": 0,
  "metadata": {
    "colab": {
      "provenance": [],
      "collapsed_sections": [],
      "authorship_tag": "ABX9TyPCuwLvhDhvXUN273xrKhUs",
      "include_colab_link": true
    },
    "kernelspec": {
      "name": "python3",
      "display_name": "Python 3"
    },
    "language_info": {
      "name": "python"
    }
  },
  "cells": [
    {
      "cell_type": "markdown",
      "metadata": {
        "id": "view-in-github",
        "colab_type": "text"
      },
      "source": [
        "<a href=\"https://colab.research.google.com/github/jtnovoamatte/jtnovoamatte/blob/main/sha256_find_substring.ipynb\" target=\"_parent\"><img src=\"https://colab.research.google.com/assets/colab-badge.svg\" alt=\"Open In Colab\"/></a>"
      ]
    },
    {
      "cell_type": "code",
      "execution_count": 59,
      "metadata": {
        "id": "oVAVOU7_LC-2",
        "colab": {
          "base_uri": "https://localhost:8080/"
        },
        "outputId": "2f74c320-e27b-4f4b-dfb3-5afd670bacb7"
      },
      "outputs": [
        {
          "output_type": "stream",
          "name": "stdout",
          "text": [
            "Number of tries:  15\n",
            "String (input):  b'e17b5ac6-cf81-48af-87e6-114c7bbbf4a3'\n",
            "Hash (output):  a0e4fa29c7a8c97793bfaa6053d6004b7f08a8751f8118366292f7b6998b0bab\n"
          ]
        }
      ],
      "source": [
        "#!/usr/bin/env python3\n",
        "\n",
        "from hashlib import sha256\n",
        "from uuid import uuid4\n",
        "\n",
        "needle = \"b0b\"\n",
        "\n",
        "found = False\n",
        "counter = 0\n",
        "\n",
        "while not found:\n",
        "    candidate = str(uuid4()).encode()\n",
        "    haystack = sha256(candidate).hexdigest()\n",
        "    found = needle in haystack\n",
        "    counter = counter + 1\n",
        "    #print(counter)\n",
        "\n",
        "print(\"Number of tries: \",counter)\n",
        "print(\"String (input): \",candidate)\n",
        "print(\"Hash (output): \",haystack)"
      ]
    }
  ]
}
